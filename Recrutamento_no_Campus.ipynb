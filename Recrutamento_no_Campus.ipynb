{
  "nbformat": 4,
  "nbformat_minor": 0,
  "metadata": {
    "colab": {
      "name": "Recrutamento no Campus.ipynb",
      "provenance": [],
      "collapsed_sections": [],
      "authorship_tag": "ABX9TyMvAcd6spcYD5agt8HaCNcs",
      "include_colab_link": true
    },
    "kernelspec": {
      "name": "python3",
      "display_name": "Python 3"
    },
    "language_info": {
      "name": "python"
    }
  },
  "cells": [
    {
      "cell_type": "markdown",
      "metadata": {
        "id": "view-in-github",
        "colab_type": "text"
      },
      "source": [
        "<a href=\"https://colab.research.google.com/github/RodrigoTito/Recrutamento/blob/main/Recrutamento_no_Campus.ipynb\" target=\"_parent\"><img src=\"https://colab.research.google.com/assets/colab-badge.svg\" alt=\"Open In Colab\"/></a>"
      ]
    },
    {
      "cell_type": "markdown",
      "metadata": {
        "id": "ExbVSbRS3YJm"
      },
      "source": [
        "### Recrutamento\n",
        "\n",
        "*Um programa de recrutamento no campus é um programa conduzido em universidades ou outras instituições educacionais que ajuda os alunos a encontrarem emprego quando se aproximam da formatura. Como parte desse programa, as instituições educacionais fazem parceria com empresas que desejam recrutar alunos junto à população.*\n",
        "\n",
        " \n",
        "*A colocação de um aluno depende de vários fatores, como seu desempenho na escola e faculdades, experiência de trabalho, etc.*\n",
        "\n",
        "\n",
        "*O objetivo aqui é prever se um aluno será colocado ou não.*\n",
        "\n"
      ]
    },
    {
      "cell_type": "code",
      "metadata": {
        "id": "FCBXAXxA3cMM"
      },
      "source": [
        "import pandas as pd\n",
        "import numpy as np\n",
        "import sklearn\n",
        "import matplotlib.pyplot as plt\n",
        "import seaborn as sns\n",
        "from pylab import rcParams\n",
        "rcParams['figure.figsize'] = 12,8"
      ],
      "execution_count": null,
      "outputs": []
    },
    {
      "cell_type": "markdown",
      "metadata": {
        "id": "w9I-3kFq5OJg"
      },
      "source": [
        "* Importando os conjuntos de dados de treino e teste"
      ]
    },
    {
      "cell_type": "code",
      "metadata": {
        "id": "BmkwOOE349ix"
      },
      "source": [
        "train = pd.read_csv('Train_Data.csv')\n",
        "test  = pd.read_csv('Test_Data.csv')"
      ],
      "execution_count": null,
      "outputs": []
    },
    {
      "cell_type": "markdown",
      "metadata": {
        "id": "URudgX5k5mB9"
      },
      "source": [
        "* Fazendo uma cópia dos conjuntos dados de treino e teste"
      ]
    },
    {
      "cell_type": "code",
      "metadata": {
        "id": "JhwF8zxF5jUz"
      },
      "source": [
        "train_original = train.copy() \n",
        "test_original  = test.copy()"
      ],
      "execution_count": null,
      "outputs": []
    },
    {
      "cell_type": "markdown",
      "metadata": {
        "id": "231jkkW75v28"
      },
      "source": [
        "## Análise exploratória de dados\n",
        "\n",
        "\n",
        "* Visualizando: "
      ]
    },
    {
      "cell_type": "code",
      "metadata": {
        "colab": {
          "base_uri": "https://localhost:8080/",
          "height": 258
        },
        "id": "3FGxcHvS5sKC",
        "outputId": "5173635d-b076-4f56-c1d9-df63bcddcf86"
      },
      "source": [
        "train.head()"
      ],
      "execution_count": null,
      "outputs": [
        {
          "output_type": "execute_result",
          "data": {
            "text/html": [
              "<div>\n",
              "<style scoped>\n",
              "    .dataframe tbody tr th:only-of-type {\n",
              "        vertical-align: middle;\n",
              "    }\n",
              "\n",
              "    .dataframe tbody tr th {\n",
              "        vertical-align: top;\n",
              "    }\n",
              "\n",
              "    .dataframe thead th {\n",
              "        text-align: right;\n",
              "    }\n",
              "</style>\n",
              "<table border=\"1\" class=\"dataframe\">\n",
              "  <thead>\n",
              "    <tr style=\"text-align: right;\">\n",
              "      <th></th>\n",
              "      <th>gender</th>\n",
              "      <th>ssc_p</th>\n",
              "      <th>ssc_b</th>\n",
              "      <th>hsc_p</th>\n",
              "      <th>hsc_b</th>\n",
              "      <th>hsc_s</th>\n",
              "      <th>degree_p</th>\n",
              "      <th>degree_t</th>\n",
              "      <th>etest_p</th>\n",
              "      <th>mba_p</th>\n",
              "      <th>specialisation</th>\n",
              "      <th>workex</th>\n",
              "      <th>status</th>\n",
              "    </tr>\n",
              "  </thead>\n",
              "  <tbody>\n",
              "    <tr>\n",
              "      <th>0</th>\n",
              "      <td>M</td>\n",
              "      <td>73.976975</td>\n",
              "      <td>Central</td>\n",
              "      <td>77.392691</td>\n",
              "      <td>Others</td>\n",
              "      <td>Science</td>\n",
              "      <td>73.623151</td>\n",
              "      <td>Sci&amp;Tech</td>\n",
              "      <td>84.498310</td>\n",
              "      <td>67.207006</td>\n",
              "      <td>Mkt&amp;HR</td>\n",
              "      <td>Yes</td>\n",
              "      <td>Placed</td>\n",
              "    </tr>\n",
              "    <tr>\n",
              "      <th>1</th>\n",
              "      <td>M</td>\n",
              "      <td>62.000000</td>\n",
              "      <td>Others</td>\n",
              "      <td>62.000000</td>\n",
              "      <td>Others</td>\n",
              "      <td>Commerce</td>\n",
              "      <td>60.000000</td>\n",
              "      <td>Comm&amp;Mgmt</td>\n",
              "      <td>63.000000</td>\n",
              "      <td>52.380000</td>\n",
              "      <td>Mkt&amp;HR</td>\n",
              "      <td>Yes</td>\n",
              "      <td>Placed</td>\n",
              "    </tr>\n",
              "    <tr>\n",
              "      <th>2</th>\n",
              "      <td>M</td>\n",
              "      <td>80.965242</td>\n",
              "      <td>Others</td>\n",
              "      <td>67.104275</td>\n",
              "      <td>Others</td>\n",
              "      <td>Science</td>\n",
              "      <td>72.482621</td>\n",
              "      <td>Sci&amp;Tech</td>\n",
              "      <td>91.343588</td>\n",
              "      <td>71.392313</td>\n",
              "      <td>Mkt&amp;Fin</td>\n",
              "      <td>No</td>\n",
              "      <td>Placed</td>\n",
              "    </tr>\n",
              "    <tr>\n",
              "      <th>3</th>\n",
              "      <td>M</td>\n",
              "      <td>52.000000</td>\n",
              "      <td>Others</td>\n",
              "      <td>65.000000</td>\n",
              "      <td>Others</td>\n",
              "      <td>Arts</td>\n",
              "      <td>57.000000</td>\n",
              "      <td>Others</td>\n",
              "      <td>75.000000</td>\n",
              "      <td>59.810000</td>\n",
              "      <td>Mkt&amp;Fin</td>\n",
              "      <td>Yes</td>\n",
              "      <td>Not Placed</td>\n",
              "    </tr>\n",
              "    <tr>\n",
              "      <th>4</th>\n",
              "      <td>F</td>\n",
              "      <td>69.000000</td>\n",
              "      <td>Central</td>\n",
              "      <td>62.000000</td>\n",
              "      <td>Central</td>\n",
              "      <td>Science</td>\n",
              "      <td>66.000000</td>\n",
              "      <td>Sci&amp;Tech</td>\n",
              "      <td>75.000000</td>\n",
              "      <td>67.990000</td>\n",
              "      <td>Mkt&amp;HR</td>\n",
              "      <td>No</td>\n",
              "      <td>Not Placed</td>\n",
              "    </tr>\n",
              "  </tbody>\n",
              "</table>\n",
              "</div>"
            ],
            "text/plain": [
              "  gender      ssc_p    ssc_b  ...  specialisation workex      status\n",
              "0      M  73.976975  Central  ...          Mkt&HR    Yes      Placed\n",
              "1      M  62.000000   Others  ...          Mkt&HR    Yes      Placed\n",
              "2      M  80.965242   Others  ...         Mkt&Fin     No      Placed\n",
              "3      M  52.000000   Others  ...         Mkt&Fin    Yes  Not Placed\n",
              "4      F  69.000000  Central  ...          Mkt&HR     No  Not Placed\n",
              "\n",
              "[5 rows x 13 columns]"
            ]
          },
          "metadata": {},
          "execution_count": 125
        }
      ]
    },
    {
      "cell_type": "markdown",
      "metadata": {
        "id": "4Bv6oSgu5_4a"
      },
      "source": [
        "* Informações de cada variável do conjunto de dados de treino"
      ]
    },
    {
      "cell_type": "code",
      "metadata": {
        "colab": {
          "base_uri": "https://localhost:8080/",
          "height": 452
        },
        "id": "xGyjXUkm55bg",
        "outputId": "232aa402-89ce-41bf-b29c-2f058d30c792"
      },
      "source": [
        "df_aux = pd.DataFrame({'Type': train.dtypes,\n",
        "                      'Missing': train.isna().sum(),\n",
        "                      'Size': train.shape[0]\n",
        "                     })\n",
        "df_aux"
      ],
      "execution_count": null,
      "outputs": [
        {
          "output_type": "execute_result",
          "data": {
            "text/html": [
              "<div>\n",
              "<style scoped>\n",
              "    .dataframe tbody tr th:only-of-type {\n",
              "        vertical-align: middle;\n",
              "    }\n",
              "\n",
              "    .dataframe tbody tr th {\n",
              "        vertical-align: top;\n",
              "    }\n",
              "\n",
              "    .dataframe thead th {\n",
              "        text-align: right;\n",
              "    }\n",
              "</style>\n",
              "<table border=\"1\" class=\"dataframe\">\n",
              "  <thead>\n",
              "    <tr style=\"text-align: right;\">\n",
              "      <th></th>\n",
              "      <th>Type</th>\n",
              "      <th>Missing</th>\n",
              "      <th>Size</th>\n",
              "    </tr>\n",
              "  </thead>\n",
              "  <tbody>\n",
              "    <tr>\n",
              "      <th>gender</th>\n",
              "      <td>object</td>\n",
              "      <td>0</td>\n",
              "      <td>670</td>\n",
              "    </tr>\n",
              "    <tr>\n",
              "      <th>ssc_p</th>\n",
              "      <td>float64</td>\n",
              "      <td>0</td>\n",
              "      <td>670</td>\n",
              "    </tr>\n",
              "    <tr>\n",
              "      <th>ssc_b</th>\n",
              "      <td>object</td>\n",
              "      <td>0</td>\n",
              "      <td>670</td>\n",
              "    </tr>\n",
              "    <tr>\n",
              "      <th>hsc_p</th>\n",
              "      <td>float64</td>\n",
              "      <td>0</td>\n",
              "      <td>670</td>\n",
              "    </tr>\n",
              "    <tr>\n",
              "      <th>hsc_b</th>\n",
              "      <td>object</td>\n",
              "      <td>0</td>\n",
              "      <td>670</td>\n",
              "    </tr>\n",
              "    <tr>\n",
              "      <th>hsc_s</th>\n",
              "      <td>object</td>\n",
              "      <td>0</td>\n",
              "      <td>670</td>\n",
              "    </tr>\n",
              "    <tr>\n",
              "      <th>degree_p</th>\n",
              "      <td>float64</td>\n",
              "      <td>0</td>\n",
              "      <td>670</td>\n",
              "    </tr>\n",
              "    <tr>\n",
              "      <th>degree_t</th>\n",
              "      <td>object</td>\n",
              "      <td>0</td>\n",
              "      <td>670</td>\n",
              "    </tr>\n",
              "    <tr>\n",
              "      <th>etest_p</th>\n",
              "      <td>float64</td>\n",
              "      <td>0</td>\n",
              "      <td>670</td>\n",
              "    </tr>\n",
              "    <tr>\n",
              "      <th>mba_p</th>\n",
              "      <td>float64</td>\n",
              "      <td>0</td>\n",
              "      <td>670</td>\n",
              "    </tr>\n",
              "    <tr>\n",
              "      <th>specialisation</th>\n",
              "      <td>object</td>\n",
              "      <td>0</td>\n",
              "      <td>670</td>\n",
              "    </tr>\n",
              "    <tr>\n",
              "      <th>workex</th>\n",
              "      <td>object</td>\n",
              "      <td>0</td>\n",
              "      <td>670</td>\n",
              "    </tr>\n",
              "    <tr>\n",
              "      <th>status</th>\n",
              "      <td>object</td>\n",
              "      <td>0</td>\n",
              "      <td>670</td>\n",
              "    </tr>\n",
              "  </tbody>\n",
              "</table>\n",
              "</div>"
            ],
            "text/plain": [
              "                   Type  Missing  Size\n",
              "gender           object        0   670\n",
              "ssc_p           float64        0   670\n",
              "ssc_b            object        0   670\n",
              "hsc_p           float64        0   670\n",
              "hsc_b            object        0   670\n",
              "hsc_s            object        0   670\n",
              "degree_p        float64        0   670\n",
              "degree_t         object        0   670\n",
              "etest_p         float64        0   670\n",
              "mba_p           float64        0   670\n",
              "specialisation   object        0   670\n",
              "workex           object        0   670\n",
              "status           object        0   670"
            ]
          },
          "metadata": {},
          "execution_count": 126
        }
      ]
    },
    {
      "cell_type": "markdown",
      "metadata": {
        "id": "Cl6naiZW8SNJ"
      },
      "source": [
        "gênero: gênero do candidato (masculino / feminino)\n",
        "\n",
        "ssc_b: quadro secundário sênior\n",
        "\n",
        "ssc_p: porcentagem do ensino médio pontuado\n",
        "\n",
        "hsc_b: placa secundária superior\n",
        "\n",
        "hsc_p: maior porcentagem secundária pontuada\n",
        "\n",
        "hsc_s: matéria secundária superior\n",
        "\n",
        "grau_p: porcentagem pontuada em grau / graduação\n",
        "\n",
        "etest_p: porcentagem do teste de entrada com pontuação\n",
        "\n",
        "mba_p: porcentagem de mba pontuada\n",
        "\n",
        "specialisation: especialização MBA\n",
        "\n",
        "workex: experiência de trabalho\n",
        "\n",
        "status: colocado ou não colocado (variável de destino"
      ]
    },
    {
      "cell_type": "markdown",
      "metadata": {
        "id": "cSZcr6EK8gTT"
      },
      "source": [
        "* Informações de cada variável do conjunto de dados de teste"
      ]
    },
    {
      "cell_type": "code",
      "metadata": {
        "colab": {
          "base_uri": "https://localhost:8080/",
          "height": 421
        },
        "id": "BL_ca-UO8QI0",
        "outputId": "e014820b-5b93-40f9-d8a2-b94b5ebb71bf"
      },
      "source": [
        "df_aux_test = pd.DataFrame({'Type': test.dtypes,\n",
        "                      'Missing': test.isna().sum(),\n",
        "                      'Size': test.shape[0]\n",
        "                     })\n",
        "df_aux_test"
      ],
      "execution_count": null,
      "outputs": [
        {
          "output_type": "execute_result",
          "data": {
            "text/html": [
              "<div>\n",
              "<style scoped>\n",
              "    .dataframe tbody tr th:only-of-type {\n",
              "        vertical-align: middle;\n",
              "    }\n",
              "\n",
              "    .dataframe tbody tr th {\n",
              "        vertical-align: top;\n",
              "    }\n",
              "\n",
              "    .dataframe thead th {\n",
              "        text-align: right;\n",
              "    }\n",
              "</style>\n",
              "<table border=\"1\" class=\"dataframe\">\n",
              "  <thead>\n",
              "    <tr style=\"text-align: right;\">\n",
              "      <th></th>\n",
              "      <th>Type</th>\n",
              "      <th>Missing</th>\n",
              "      <th>Size</th>\n",
              "    </tr>\n",
              "  </thead>\n",
              "  <tbody>\n",
              "    <tr>\n",
              "      <th>gender</th>\n",
              "      <td>object</td>\n",
              "      <td>0</td>\n",
              "      <td>448</td>\n",
              "    </tr>\n",
              "    <tr>\n",
              "      <th>ssc_p</th>\n",
              "      <td>float64</td>\n",
              "      <td>0</td>\n",
              "      <td>448</td>\n",
              "    </tr>\n",
              "    <tr>\n",
              "      <th>ssc_b</th>\n",
              "      <td>object</td>\n",
              "      <td>0</td>\n",
              "      <td>448</td>\n",
              "    </tr>\n",
              "    <tr>\n",
              "      <th>hsc_p</th>\n",
              "      <td>float64</td>\n",
              "      <td>0</td>\n",
              "      <td>448</td>\n",
              "    </tr>\n",
              "    <tr>\n",
              "      <th>hsc_b</th>\n",
              "      <td>object</td>\n",
              "      <td>0</td>\n",
              "      <td>448</td>\n",
              "    </tr>\n",
              "    <tr>\n",
              "      <th>hsc_s</th>\n",
              "      <td>object</td>\n",
              "      <td>0</td>\n",
              "      <td>448</td>\n",
              "    </tr>\n",
              "    <tr>\n",
              "      <th>degree_p</th>\n",
              "      <td>float64</td>\n",
              "      <td>0</td>\n",
              "      <td>448</td>\n",
              "    </tr>\n",
              "    <tr>\n",
              "      <th>etest_p</th>\n",
              "      <td>float64</td>\n",
              "      <td>0</td>\n",
              "      <td>448</td>\n",
              "    </tr>\n",
              "    <tr>\n",
              "      <th>mba_p</th>\n",
              "      <td>float64</td>\n",
              "      <td>0</td>\n",
              "      <td>448</td>\n",
              "    </tr>\n",
              "    <tr>\n",
              "      <th>degree_t</th>\n",
              "      <td>object</td>\n",
              "      <td>0</td>\n",
              "      <td>448</td>\n",
              "    </tr>\n",
              "    <tr>\n",
              "      <th>workex</th>\n",
              "      <td>object</td>\n",
              "      <td>0</td>\n",
              "      <td>448</td>\n",
              "    </tr>\n",
              "    <tr>\n",
              "      <th>specialisation</th>\n",
              "      <td>object</td>\n",
              "      <td>0</td>\n",
              "      <td>448</td>\n",
              "    </tr>\n",
              "  </tbody>\n",
              "</table>\n",
              "</div>"
            ],
            "text/plain": [
              "                   Type  Missing  Size\n",
              "gender           object        0   448\n",
              "ssc_p           float64        0   448\n",
              "ssc_b            object        0   448\n",
              "hsc_p           float64        0   448\n",
              "hsc_b            object        0   448\n",
              "hsc_s            object        0   448\n",
              "degree_p        float64        0   448\n",
              "etest_p         float64        0   448\n",
              "mba_p           float64        0   448\n",
              "degree_t         object        0   448\n",
              "workex           object        0   448\n",
              "specialisation   object        0   448"
            ]
          },
          "metadata": {},
          "execution_count": 127
        }
      ]
    },
    {
      "cell_type": "code",
      "metadata": {
        "id": "tIZwQoAg8owj"
      },
      "source": [
        "def grafico_com_porcetagem(df,feature):\n",
        "    total = len(df)\n",
        "    ax =  sns.countplot(x=feature,data=df,color = \"#2b8cbe\")\n",
        "    ax.set_ylim(0,total*1.05) # Ajusta altura do frame\n",
        "    for p in ax.patches:\n",
        "        x = p.get_x() + p.get_width()/2\n",
        "        y = p.get_height()\n",
        "        ax.annotate('{:.2f}%'.format(100*p.get_height()/total), (x, y+10), ha='center')\n",
        "    return ax\n",
        "def grafico_com_porcetagem_1(g):\n",
        "    #g.ax.set_ylim(0,100)\n",
        "    for p in g.ax.patches:\n",
        "        x = p.get_x() + p.get_width()/2\n",
        "        y = p.get_height()\n",
        "        g.ax.annotate('{:.2f}%'.format(p.get_height()*100), (x, y+0.01), ha='center')\n",
        "    return g"
      ],
      "execution_count": null,
      "outputs": []
    },
    {
      "cell_type": "markdown",
      "metadata": {
        "id": "o6UDIz7e9ShP"
      },
      "source": [
        "* Visualizando as variáveis independentes categóricas nominais"
      ]
    },
    {
      "cell_type": "code",
      "metadata": {
        "colab": {
          "base_uri": "https://localhost:8080/",
          "height": 501
        },
        "id": "djA3s22l9PAe",
        "outputId": "09b6ba57-f5d3-4822-807a-40fb8c169453"
      },
      "source": [
        "plt.subplot(221),grafico_com_porcetagem(train[['gender']],'gender')\n",
        "plt.subplot(222),grafico_com_porcetagem(train[['specialisation']],'specialisation')\n",
        "plt.subplot(223),grafico_com_porcetagem(train[['workex']],'workex')\n",
        "plt.subplot(224),grafico_com_porcetagem(train[['degree_t']],'degree_t')\n",
        "plt.show()"
      ],
      "execution_count": null,
      "outputs": [
        {
          "output_type": "display_data",
          "data": {
            "image/png": "[encoded data removed]",
            "text/plain": [
              "<Figure size 864x576 with 4 Axes>"
            ]
          },
          "metadata": {
            "needs_background": "light"
          }
        }
      ]
    },
    {
      "cell_type": "code",
      "metadata": {
        "colab": {
          "base_uri": "https://localhost:8080/",
          "height": 501
        },
        "id": "F5duAgZj-R4Z",
        "outputId": "88904a0c-1e93-47ec-bacd-8714f1094246"
      },
      "source": [
        "plt.subplot(221),grafico_com_porcetagem(train[['ssc_b']],'ssc_b')\n",
        "plt.subplot(222),grafico_com_porcetagem(train[['hsc_b']],'hsc_b')\n",
        "plt.subplot(223),grafico_com_porcetagem(train[['hsc_s']],'hsc_s')\n",
        "plt.show()"
      ],
      "execution_count": null,
      "outputs": [
        {
          "output_type": "display_data",
          "data": {
            "image/png": "[encoded data removed]",
            "text/plain": [
              "<Figure size 864x576 with 3 Axes>"
            ]
          },
          "metadata": {
            "needs_background": "light"
          }
        }
      ]
    },
    {
      "cell_type": "code",
      "metadata": {
        "colab": {
          "base_uri": "https://localhost:8080/",
          "height": 517
        },
        "id": "fJj-MuC0-8ej",
        "outputId": "d849a910-c4cc-486d-9992-d50168831e92"
      },
      "source": [
        "print(train['status'].value_counts())\n",
        "plt.pie(train['status'].value_counts(),autopct='%.2f%%');"
      ],
      "execution_count": null,
      "outputs": [
        {
          "output_type": "stream",
          "text": [
            "Placed        439\n",
            "Not Placed    231\n",
            "Name: status, dtype: int64\n"
          ],
          "name": "stdout"
        },
        {
          "output_type": "display_data",
          "data": {
            "image/png": "[encoded data removed]",
            "text/plain": [
              "<Figure size 864x576 with 1 Axes>"
            ]
          },
          "metadata": {}
        }
      ]
    },
    {
      "cell_type": "code",
      "metadata": {
        "colab": {
          "base_uri": "https://localhost:8080/"
        },
        "id": "SXUryesxCS2d",
        "outputId": "d5a51987-5814-44f1-f576-30eefa0c13b9"
      },
      "source": [
        "train.groupby('gender')['status'].value_counts(normalize=True)"
      ],
      "execution_count": null,
      "outputs": [
        {
          "output_type": "execute_result",
          "data": {
            "text/plain": [
              "gender  status    \n",
              "F       Placed        0.815385\n",
              "        Not Placed    0.184615\n",
              "M       Placed        0.589474\n",
              "        Not Placed    0.410526\n",
              "Name: status, dtype: float64"
            ]
          },
          "metadata": {},
          "execution_count": 132
        }
      ]
    },
    {
      "cell_type": "code",
      "metadata": {
        "colab": {
          "base_uri": "https://localhost:8080/",
          "height": 427
        },
        "id": "fltmMM-z_UPx",
        "outputId": "cc3f6c85-b47d-4a77-cf7e-614f420ee358"
      },
      "source": [
        "df1 = train.groupby('gender')['status'].value_counts(normalize=True)\n",
        "df1 = df1.rename('percent').reset_index()#.sort_values(by=['percent'], ascending = True)\n",
        "\n",
        "g = sns.catplot(x='gender',y='percent',hue='status',kind='bar',data=df1, height=5,aspect = 1.8,palette=\"tab10\")\n",
        "grafico_com_porcetagem_1(g)\n",
        "plt.title('Taxa de empregado/não empregado por gênero \\n', fontsize=20)\n",
        "plt.show()"
      ],
      "execution_count": null,
      "outputs": [
        {
          "output_type": "display_data",
          "data": {
            "image/png": "[encoded data removed]",
            "text/plain": [
              "<Figure size 737.5x360 with 1 Axes>"
            ]
          },
          "metadata": {
            "needs_background": "light"
          }
        }
      ]
    },
    {
      "cell_type": "code",
      "metadata": {
        "id": "KO_XMCwoB2sV",
        "colab": {
          "base_uri": "https://localhost:8080/",
          "height": 427
        },
        "outputId": "6b30c43c-79e5-4c7d-eecc-66aea2df0174"
      },
      "source": [
        "df1 = train.groupby('workex')['status'].value_counts(normalize=True)\n",
        "df1 = df1.rename('percent').reset_index().sort_values(by=['percent'], ascending = False)\n",
        "\n",
        "g = sns.catplot(x='workex',y='percent',hue='status',kind='bar',data=df1, height=5,aspect = 1.8,palette=\"tab10\")\n",
        "grafico_com_porcetagem_1(g)\n",
        "plt.title('Taxa de empregado/não empregado por experiência de trabalho\\n', fontsize=20)\n",
        "plt.show()"
      ],
      "execution_count": null,
      "outputs": [
        {
          "output_type": "display_data",
          "data": {
            "image/png": "[encoded data removed]",
            "text/plain": [
              "<Figure size 737.5x360 with 1 Axes>"
            ]
          },
          "metadata": {
            "needs_background": "light"
          }
        }
      ]
    },
    {
      "cell_type": "code",
      "metadata": {
        "colab": {
          "base_uri": "https://localhost:8080/",
          "height": 426
        },
        "id": "mCkc19EavxAM",
        "outputId": "8370e622-dbef-4b64-ebea-d20217a13123"
      },
      "source": [
        "df1 = train.groupby('specialisation')['status'].value_counts(normalize=True)\n",
        "df1 = df1.rename('percent').reset_index().sort_values(by=['percent'], ascending = False)\n",
        "\n",
        "g = sns.catplot(x='specialisation',y='percent',hue='status',kind='bar',data=df1, height=5,aspect = 1.8,palette=\"tab10\")\n",
        "grafico_com_porcetagem_1(g)\n",
        "plt.title('Taxa de empregado/não empregado por especialização\\n', fontsize=20)\n",
        "plt.show()"
      ],
      "execution_count": null,
      "outputs": [
        {
          "output_type": "display_data",
          "data": {
            "image/png": "[encoded data removed]",
            "text/plain": [
              "<Figure size 737.5x360 with 1 Axes>"
            ]
          },
          "metadata": {
            "needs_background": "light"
          }
        }
      ]
    },
    {
      "cell_type": "code",
      "metadata": {
        "colab": {
          "base_uri": "https://localhost:8080/",
          "height": 428
        },
        "id": "GGCWHWqOwQFV",
        "outputId": "18ae0010-b0d3-42b3-a09a-82bb8b0a6024"
      },
      "source": [
        "df1 = train.groupby('ssc_b')['status'].value_counts(normalize=True)\n",
        "df1 = df1.rename('percent').reset_index().sort_values(by=['percent'], ascending = False)\n",
        "\n",
        "g = sns.catplot(x='ssc_b',y='percent',hue='status',kind='bar',data=df1, height=5,aspect = 1.8,palette=\"tab10\")\n",
        "grafico_com_porcetagem_1(g)\n",
        "plt.title('Taxa de empregado/não empregado por quadro secundário sênior \\n', fontsize=20)\n",
        "plt.show()"
      ],
      "execution_count": null,
      "outputs": [
        {
          "output_type": "display_data",
          "data": {
            "image/png": "[encoded data removed]",
            "text/plain": [
              "<Figure size 737.5x360 with 1 Axes>"
            ]
          },
          "metadata": {
            "needs_background": "light"
          }
        }
      ]
    },
    {
      "cell_type": "code",
      "metadata": {
        "colab": {
          "base_uri": "https://localhost:8080/",
          "height": 498
        },
        "id": "nNEHYAywx6Zi",
        "outputId": "1ee06472-3792-40f4-da26-7bd66a7fdcaf"
      },
      "source": [
        "App = train.loc[:,['ssc_p', 'hsc_p','degree_p','etest_p','mba_p']]\n",
        "sns.boxplot(x = 'variable', y = 'value', data = App.melt(),color='#2b8cbe');"
      ],
      "execution_count": null,
      "outputs": [
        {
          "output_type": "display_data",
          "data": {
            "image/png": "[encoded data removed]",
            "text/plain": [
              "<Figure size 864x576 with 1 Axes>"
            ]
          },
          "metadata": {
            "needs_background": "light"
          }
        }
      ]
    },
    {
      "cell_type": "markdown",
      "metadata": {
        "id": "KaO9LLUXyha0"
      },
      "source": [
        "* Transformando a variável resposta"
      ]
    },
    {
      "cell_type": "code",
      "metadata": {
        "id": "QfcN2ffiyV_W"
      },
      "source": [
        "train['status'].replace({'Not Placed':0,'Placed':1},inplace=True)"
      ],
      "execution_count": null,
      "outputs": []
    },
    {
      "cell_type": "markdown",
      "metadata": {
        "id": "f89ASUlMyxUH"
      },
      "source": [
        "* Verificando as correlações entre variáveis"
      ]
    },
    {
      "cell_type": "code",
      "metadata": {
        "colab": {
          "base_uri": "https://localhost:8080/",
          "height": 488
        },
        "id": "kgiFdKr6yuSE",
        "outputId": "fb51ba16-5a26-4485-a55b-63a24b889122"
      },
      "source": [
        "corr = train.corr()\n",
        "sns.heatmap(corr, vmax=.8, square=True, cmap=\"YlGnBu\");"
      ],
      "execution_count": null,
      "outputs": [
        {
          "output_type": "display_data",
          "data": {
            "image/png": "[encoded data removed]",
            "text/plain": [
              "<Figure size 864x576 with 2 Axes>"
            ]
          },
          "metadata": {
            "needs_background": "light"
          }
        }
      ]
    },
    {
      "cell_type": "markdown",
      "metadata": {
        "id": "25Es0cAey6TE"
      },
      "source": [
        "* Separando a variável resposta das variáveis preditoras"
      ]
    },
    {
      "cell_type": "code",
      "metadata": {
        "id": "IFn_M4b-y2b8"
      },
      "source": [
        "X = train.drop(['status'], axis = 1)\n",
        "y = train.status"
      ],
      "execution_count": null,
      "outputs": []
    },
    {
      "cell_type": "markdown",
      "metadata": {
        "id": "ihBj2kllzGhP"
      },
      "source": [
        "* Criando variáveis fictícias para as variáveis categóricas"
      ]
    },
    {
      "cell_type": "code",
      "metadata": {
        "id": "-hgCHYbbzDSd"
      },
      "source": [
        "X = pd.get_dummies(X)\n",
        "test_X =  pd.get_dummies(test)"
      ],
      "execution_count": null,
      "outputs": []
    },
    {
      "cell_type": "markdown",
      "metadata": {
        "id": "0FPnuhSczTJc"
      },
      "source": [
        "* Dividindo o conjunto de treinamento"
      ]
    },
    {
      "cell_type": "code",
      "metadata": {
        "id": "jxh6cXRazMt1"
      },
      "source": [
        "from sklearn.model_selection import train_test_split\n",
        "X_train,X_test, y_train,y_test =  train_test_split(X,y, test_size = 0.33)"
      ],
      "execution_count": null,
      "outputs": []
    },
    {
      "cell_type": "markdown",
      "metadata": {
        "id": "8OriU4XX7AC6"
      },
      "source": [
        "## Importando os modelos"
      ]
    },
    {
      "cell_type": "code",
      "metadata": {
        "id": "eF-kOV2r1uAp"
      },
      "source": [
        "from sklearn.preprocessing import Normalizer\n",
        "from sklearn.metrics import confusion_matrix\n",
        "from sklearn.metrics import classification_report\n",
        "from sklearn.linear_model import LogisticRegression\n",
        "from sklearn.neighbors import NearestCentroid\n",
        "from sklearn.naive_bayes import BernoulliNB\n",
        "from sklearn.ensemble import ExtraTreesClassifier\n",
        "from sklearn.linear_model import RidgeClassifierCV\n",
        "from sklearn.svm import SVC\n",
        "import datetime\n",
        "from sklearn.metrics import mean_squared_error, make_scorer\n",
        "from sklearn.metrics import accuracy_score"
      ],
      "execution_count": null,
      "outputs": []
    },
    {
      "cell_type": "markdown",
      "metadata": {
        "id": "GvdOEUl_hHLB"
      },
      "source": [
        "## Treinando os medelos"
      ]
    },
    {
      "cell_type": "code",
      "metadata": {
        "colab": {
          "base_uri": "https://localhost:8080/"
        },
        "id": "9_7KsJ6Z0WkG",
        "outputId": "3f039a19-600e-4133-caaf-9ead00651790"
      },
      "source": [
        "execution_results = []\n",
        "# Definindo os modelos:\n",
        "# [modelo, * dict * com parâmetros a serem testados, * lista * de UM item com o redimensionador a ser usado]\n",
        "modelos = ['RidgeClassifierCV','LogisticRegression','ExtraTreesClassifier',\n",
        "          'NearestCentroid','SVC','BernoulliNB']\n",
        "score_model = [] # acurácia\n",
        "MSE = [] # Erro quadrático médio\n",
        "measured_time_train = []\n",
        "models = [\n",
        "    [RidgeClassifierCV(), {}, [Normalizer()]],\n",
        "    [LogisticRegression(), {}, [Normalizer()]],\n",
        "    [ExtraTreesClassifier(n_estimators=100), {}, [Normalizer()]],\n",
        "    [NearestCentroid(), {}, [Normalizer()]],\n",
        "    [SVC(), {}, [Normalizer()]],\n",
        "    [BernoulliNB(), {}, [Normalizer()]],\n",
        "]\n",
        "\n",
        "best_score = 9999999999999\n",
        "best_clf = None\n",
        "\n",
        "def loss_func(y_true, y_predicted):\n",
        "    return mean_squared_error(y_true, y_predicted, squared=False)\n",
        "\n",
        "score = make_scorer(loss_func, greater_is_better=False)\n",
        "\n",
        "for classifier in models:\n",
        "    print(\"Training {}...\".format(type(classifier[0]).__name__))\n",
        "    begin_time = datetime.datetime.now()\n",
        "\n",
        "    clf=classifier[0].fit(X_train, y_train) \n",
        "    msd_time_train = datetime.datetime.now() - begin_time\n",
        "    measured_time_train.append(format(msd_time_train))\n",
        "    # Prever com o conjunto de teste\n",
        "    begin_time = datetime.datetime.now()\n",
        "    y_pred = clf.predict(X_test)\n",
        "    # Calculando o tempo decorrido \n",
        "    measured_time_test = datetime.datetime.now() - begin_time\n",
        "    # Calculando erro quadrático médio \n",
        "    error = mean_squared_error(y_test, y_pred, squared=False)\n",
        "    MSE.append(error)\n",
        "    # Calculando a acurácia\n",
        "    score = accuracy_score(y_test, y_pred)\n",
        "    score_model.append(score)\n",
        "    if error < best_score:\n",
        "        best_score = error\n",
        "        best_clf = clf"
      ],
      "execution_count": null,
      "outputs": [
        {
          "output_type": "stream",
          "text": [
            "Training RidgeClassifierCV...\n",
            "Training LogisticRegression...\n",
            "Training ExtraTreesClassifier...\n"
          ],
          "name": "stdout"
        },
        {
          "output_type": "stream",
          "text": [
            "/usr/local/lib/python3.7/dist-packages/sklearn/linear_model/_logistic.py:940: ConvergenceWarning: lbfgs failed to converge (status=1):\n",
            "STOP: TOTAL NO. of ITERATIONS REACHED LIMIT.\n",
            "\n",
            "Increase the number of iterations (max_iter) or scale the data as shown in:\n",
            "    https://scikit-learn.org/stable/modules/preprocessing.html\n",
            "Please also refer to the documentation for alternative solver options:\n",
            "    https://scikit-learn.org/stable/modules/linear_model.html#logistic-regression\n",
            "  extra_warning_msg=_LOGISTIC_SOLVER_CONVERGENCE_MSG)\n"
          ],
          "name": "stderr"
        },
        {
          "output_type": "stream",
          "text": [
            "Training NearestCentroid...\n",
            "Training SVC...\n",
            "Training BernoulliNB...\n"
          ],
          "name": "stdout"
        }
      ]
    },
    {
      "cell_type": "markdown",
      "metadata": {
        "id": "O1EJ8Hkcdxln"
      },
      "source": [
        "## Resultados dos modelos"
      ]
    },
    {
      "cell_type": "code",
      "metadata": {
        "colab": {
          "base_uri": "https://localhost:8080/",
          "height": 235
        },
        "id": "OvBBivy1YaMH",
        "outputId": "6a8acaac-59e7-4d57-de58-4bd7824f4ee5"
      },
      "source": [
        "md = pd.DataFrame({'modelos': modelos,\n",
        "                   'mse': MSE,\n",
        "                   'score':score_model,\n",
        "                   'tempo decorrido de treinamento':measured_time_train})\n",
        "md.sort_values(['mse', 'score'])"
      ],
      "execution_count": null,
      "outputs": [
        {
          "output_type": "execute_result",
          "data": {
            "text/html": [
              "<div>\n",
              "<style scoped>\n",
              "    .dataframe tbody tr th:only-of-type {\n",
              "        vertical-align: middle;\n",
              "    }\n",
              "\n",
              "    .dataframe tbody tr th {\n",
              "        vertical-align: top;\n",
              "    }\n",
              "\n",
              "    .dataframe thead th {\n",
              "        text-align: right;\n",
              "    }\n",
              "</style>\n",
              "<table border=\"1\" class=\"dataframe\">\n",
              "  <thead>\n",
              "    <tr style=\"text-align: right;\">\n",
              "      <th></th>\n",
              "      <th>modelos</th>\n",
              "      <th>mse</th>\n",
              "      <th>score</th>\n",
              "      <th>tempo decorrido de treinamento</th>\n",
              "    </tr>\n",
              "  </thead>\n",
              "  <tbody>\n",
              "    <tr>\n",
              "      <th>2</th>\n",
              "      <td>ExtraTreesClassifier</td>\n",
              "      <td>0.222597</td>\n",
              "      <td>0.950450</td>\n",
              "      <td>0:00:00.186843</td>\n",
              "    </tr>\n",
              "    <tr>\n",
              "      <th>1</th>\n",
              "      <td>LogisticRegression</td>\n",
              "      <td>0.300150</td>\n",
              "      <td>0.909910</td>\n",
              "      <td>0:00:00.079376</td>\n",
              "    </tr>\n",
              "    <tr>\n",
              "      <th>0</th>\n",
              "      <td>RidgeClassifierCV</td>\n",
              "      <td>0.328798</td>\n",
              "      <td>0.891892</td>\n",
              "      <td>0:00:00.011839</td>\n",
              "    </tr>\n",
              "    <tr>\n",
              "      <th>4</th>\n",
              "      <td>SVC</td>\n",
              "      <td>0.379663</td>\n",
              "      <td>0.855856</td>\n",
              "      <td>0:00:00.007641</td>\n",
              "    </tr>\n",
              "    <tr>\n",
              "      <th>3</th>\n",
              "      <td>NearestCentroid</td>\n",
              "      <td>0.413728</td>\n",
              "      <td>0.828829</td>\n",
              "      <td>0:00:00.002050</td>\n",
              "    </tr>\n",
              "    <tr>\n",
              "      <th>5</th>\n",
              "      <td>BernoulliNB</td>\n",
              "      <td>0.464991</td>\n",
              "      <td>0.783784</td>\n",
              "      <td>0:00:00.002263</td>\n",
              "    </tr>\n",
              "  </tbody>\n",
              "</table>\n",
              "</div>"
            ],
            "text/plain": [
              "                modelos       mse     score tempo decorrido de treinamento\n",
              "2  ExtraTreesClassifier  0.222597  0.950450                 0:00:00.186843\n",
              "1    LogisticRegression  0.300150  0.909910                 0:00:00.079376\n",
              "0     RidgeClassifierCV  0.328798  0.891892                 0:00:00.011839\n",
              "4                   SVC  0.379663  0.855856                 0:00:00.007641\n",
              "3       NearestCentroid  0.413728  0.828829                 0:00:00.002050\n",
              "5           BernoulliNB  0.464991  0.783784                 0:00:00.002263"
            ]
          },
          "metadata": {},
          "execution_count": 145
        }
      ]
    },
    {
      "cell_type": "code",
      "metadata": {
        "colab": {
          "base_uri": "https://localhost:8080/"
        },
        "id": "8_erRNV_2fEz",
        "outputId": "b1bb83e3-61c3-456d-f166-287e85dedd7d"
      },
      "source": [
        "print(\"A melhor pontuação foi {} por clf {}\".format(best_score, str(best_clf)))"
      ],
      "execution_count": null,
      "outputs": [
        {
          "output_type": "stream",
          "text": [
            "A melhor pontuação foi 0.22259728109199706 por clf ExtraTreesClassifier(bootstrap=False, ccp_alpha=0.0, class_weight=None,\n",
            "                     criterion='gini', max_depth=None, max_features='auto',\n",
            "                     max_leaf_nodes=None, max_samples=None,\n",
            "                     min_impurity_decrease=0.0, min_impurity_split=None,\n",
            "                     min_samples_leaf=1, min_samples_split=2,\n",
            "                     min_weight_fraction_leaf=0.0, n_estimators=100,\n",
            "                     n_jobs=None, oob_score=False, random_state=None, verbose=0,\n",
            "                     warm_start=False)\n"
          ],
          "name": "stdout"
        }
      ]
    },
    {
      "cell_type": "markdown",
      "metadata": {
        "id": "LRO1WFROzw4M"
      },
      "source": [
        "* Fazendo pevisão com o conjunto de dados X_test"
      ]
    },
    {
      "cell_type": "code",
      "metadata": {
        "id": "eHk3vyQYzsJR"
      },
      "source": [
        "y_pred = best_clf.predict(X_test)"
      ],
      "execution_count": null,
      "outputs": []
    },
    {
      "cell_type": "markdown",
      "metadata": {
        "id": "w9pCafOIz3OR"
      },
      "source": [
        "* Verificando quão bom é o modelo para o conjunto de dados X_test"
      ]
    },
    {
      "cell_type": "code",
      "metadata": {
        "colab": {
          "base_uri": "https://localhost:8080/"
        },
        "id": "d-TDVsZIz0lC",
        "outputId": "363f30f4-ed57-4715-ec3e-c575e941f119"
      },
      "source": [
        "print(classification_report(y_test, y_pred))"
      ],
      "execution_count": null,
      "outputs": [
        {
          "output_type": "stream",
          "text": [
            "              precision    recall  f1-score   support\n",
            "\n",
            "           0       0.94      0.92      0.93        78\n",
            "           1       0.96      0.97      0.96       144\n",
            "\n",
            "    accuracy                           0.95       222\n",
            "   macro avg       0.95      0.94      0.95       222\n",
            "weighted avg       0.95      0.95      0.95       222\n",
            "\n"
          ],
          "name": "stdout"
        }
      ]
    },
    {
      "cell_type": "markdown",
      "metadata": {
        "id": "wtN-pJ020KNf"
      },
      "source": [
        "* Visualizando a matriz de confusão"
      ]
    },
    {
      "cell_type": "code",
      "metadata": {
        "colab": {
          "base_uri": "https://localhost:8080/"
        },
        "id": "C-CyZiTa0CHL",
        "outputId": "1c5fb5fb-e932-4aa3-d532-5de8db46ade4"
      },
      "source": [
        "print(confusion_matrix(y_test, y_pred))"
      ],
      "execution_count": null,
      "outputs": [
        {
          "output_type": "stream",
          "text": [
            "[[ 72   6]\n",
            " [  5 139]]\n"
          ],
          "name": "stdout"
        }
      ]
    },
    {
      "cell_type": "code",
      "metadata": {
        "id": "AXOVMrtS5rJY"
      },
      "source": [
        "target = best_clf.predict(test_X)\n",
        "res = pd.DataFrame(target)\n",
        "res.columns = [\"prediction\"]"
      ],
      "execution_count": null,
      "outputs": []
    },
    {
      "cell_type": "code",
      "metadata": {
        "colab": {
          "base_uri": "https://localhost:8080/",
          "height": 142
        },
        "id": "pINO1L3X9d6L",
        "outputId": "ccda2b17-f3a3-491f-f434-31d885eccb26"
      },
      "source": [
        "res.head(3)"
      ],
      "execution_count": null,
      "outputs": [
        {
          "output_type": "execute_result",
          "data": {
            "text/html": [
              "<div>\n",
              "<style scoped>\n",
              "    .dataframe tbody tr th:only-of-type {\n",
              "        vertical-align: middle;\n",
              "    }\n",
              "\n",
              "    .dataframe tbody tr th {\n",
              "        vertical-align: top;\n",
              "    }\n",
              "\n",
              "    .dataframe thead th {\n",
              "        text-align: right;\n",
              "    }\n",
              "</style>\n",
              "<table border=\"1\" class=\"dataframe\">\n",
              "  <thead>\n",
              "    <tr style=\"text-align: right;\">\n",
              "      <th></th>\n",
              "      <th>prediction</th>\n",
              "    </tr>\n",
              "  </thead>\n",
              "  <tbody>\n",
              "    <tr>\n",
              "      <th>0</th>\n",
              "      <td>1</td>\n",
              "    </tr>\n",
              "    <tr>\n",
              "      <th>1</th>\n",
              "      <td>1</td>\n",
              "    </tr>\n",
              "    <tr>\n",
              "      <th>2</th>\n",
              "      <td>1</td>\n",
              "    </tr>\n",
              "  </tbody>\n",
              "</table>\n",
              "</div>"
            ],
            "text/plain": [
              "   prediction\n",
              "0           1\n",
              "1           1\n",
              "2           1"
            ]
          },
          "metadata": {},
          "execution_count": 151
        }
      ]
    },
    {
      "cell_type": "markdown",
      "metadata": {
        "id": "U9_VluZr96eO"
      },
      "source": [
        "* Convertendo os valores 0 e 1 para Not Placed e Placed"
      ]
    },
    {
      "cell_type": "code",
      "metadata": {
        "id": "gtELUiPR9jMn"
      },
      "source": [
        "res['prediction'].replace({0:'Not Placed',1:'Placed'},inplace=True) "
      ],
      "execution_count": null,
      "outputs": []
    },
    {
      "cell_type": "code",
      "metadata": {
        "colab": {
          "base_uri": "https://localhost:8080/",
          "height": 204
        },
        "id": "xnDeBjEc-ehf",
        "outputId": "7345e86a-d1ca-4f1f-bd2b-23d622418aec"
      },
      "source": [
        "res.head()"
      ],
      "execution_count": null,
      "outputs": [
        {
          "output_type": "execute_result",
          "data": {
            "text/html": [
              "<div>\n",
              "<style scoped>\n",
              "    .dataframe tbody tr th:only-of-type {\n",
              "        vertical-align: middle;\n",
              "    }\n",
              "\n",
              "    .dataframe tbody tr th {\n",
              "        vertical-align: top;\n",
              "    }\n",
              "\n",
              "    .dataframe thead th {\n",
              "        text-align: right;\n",
              "    }\n",
              "</style>\n",
              "<table border=\"1\" class=\"dataframe\">\n",
              "  <thead>\n",
              "    <tr style=\"text-align: right;\">\n",
              "      <th></th>\n",
              "      <th>prediction</th>\n",
              "    </tr>\n",
              "  </thead>\n",
              "  <tbody>\n",
              "    <tr>\n",
              "      <th>0</th>\n",
              "      <td>Placed</td>\n",
              "    </tr>\n",
              "    <tr>\n",
              "      <th>1</th>\n",
              "      <td>Placed</td>\n",
              "    </tr>\n",
              "    <tr>\n",
              "      <th>2</th>\n",
              "      <td>Placed</td>\n",
              "    </tr>\n",
              "    <tr>\n",
              "      <th>3</th>\n",
              "      <td>Placed</td>\n",
              "    </tr>\n",
              "    <tr>\n",
              "      <th>4</th>\n",
              "      <td>Placed</td>\n",
              "    </tr>\n",
              "  </tbody>\n",
              "</table>\n",
              "</div>"
            ],
            "text/plain": [
              "  prediction\n",
              "0     Placed\n",
              "1     Placed\n",
              "2     Placed\n",
              "3     Placed\n",
              "4     Placed"
            ]
          },
          "metadata": {},
          "execution_count": 153
        }
      ]
    },
    {
      "cell_type": "markdown",
      "metadata": {
        "id": "QSyeyVOm_brv"
      },
      "source": [
        "* Baixando o arquivo csv localmente"
      ]
    },
    {
      "cell_type": "code",
      "metadata": {
        "id": "uPRRlGch-fjI"
      },
      "source": [
        "from google.colab import files\n",
        "res.to_csv('Sample_Submission.csv',index=False)         \n",
        "#files.download('Sample_Submission.csv')"
      ],
      "execution_count": null,
      "outputs": []
    },
    {
      "cell_type": "code",
      "metadata": {
        "colab": {
          "base_uri": "https://localhost:8080/",
          "height": 419
        },
        "id": "TpQWqfBn_B0X",
        "outputId": "e3b6bbdb-9185-4909-9e9c-a29ad65b413b"
      },
      "source": [
        "pd.read_csv('Sample_Submission.csv')"
      ],
      "execution_count": null,
      "outputs": [
        {
          "output_type": "execute_result",
          "data": {
            "text/html": [
              "<div>\n",
              "<style scoped>\n",
              "    .dataframe tbody tr th:only-of-type {\n",
              "        vertical-align: middle;\n",
              "    }\n",
              "\n",
              "    .dataframe tbody tr th {\n",
              "        vertical-align: top;\n",
              "    }\n",
              "\n",
              "    .dataframe thead th {\n",
              "        text-align: right;\n",
              "    }\n",
              "</style>\n",
              "<table border=\"1\" class=\"dataframe\">\n",
              "  <thead>\n",
              "    <tr style=\"text-align: right;\">\n",
              "      <th></th>\n",
              "      <th>prediction</th>\n",
              "    </tr>\n",
              "  </thead>\n",
              "  <tbody>\n",
              "    <tr>\n",
              "      <th>0</th>\n",
              "      <td>Placed</td>\n",
              "    </tr>\n",
              "    <tr>\n",
              "      <th>1</th>\n",
              "      <td>Placed</td>\n",
              "    </tr>\n",
              "    <tr>\n",
              "      <th>2</th>\n",
              "      <td>Placed</td>\n",
              "    </tr>\n",
              "    <tr>\n",
              "      <th>3</th>\n",
              "      <td>Placed</td>\n",
              "    </tr>\n",
              "    <tr>\n",
              "      <th>4</th>\n",
              "      <td>Placed</td>\n",
              "    </tr>\n",
              "    <tr>\n",
              "      <th>...</th>\n",
              "      <td>...</td>\n",
              "    </tr>\n",
              "    <tr>\n",
              "      <th>443</th>\n",
              "      <td>Placed</td>\n",
              "    </tr>\n",
              "    <tr>\n",
              "      <th>444</th>\n",
              "      <td>Placed</td>\n",
              "    </tr>\n",
              "    <tr>\n",
              "      <th>445</th>\n",
              "      <td>Placed</td>\n",
              "    </tr>\n",
              "    <tr>\n",
              "      <th>446</th>\n",
              "      <td>Not Placed</td>\n",
              "    </tr>\n",
              "    <tr>\n",
              "      <th>447</th>\n",
              "      <td>Placed</td>\n",
              "    </tr>\n",
              "  </tbody>\n",
              "</table>\n",
              "<p>448 rows × 1 columns</p>\n",
              "</div>"
            ],
            "text/plain": [
              "     prediction\n",
              "0        Placed\n",
              "1        Placed\n",
              "2        Placed\n",
              "3        Placed\n",
              "4        Placed\n",
              "..          ...\n",
              "443      Placed\n",
              "444      Placed\n",
              "445      Placed\n",
              "446  Not Placed\n",
              "447      Placed\n",
              "\n",
              "[448 rows x 1 columns]"
            ]
          },
          "metadata": {},
          "execution_count": 121
        }
      ]
    },
    {
      "cell_type": "code",
      "metadata": {
        "id": "UDvboUyn_-cP"
      },
      "source": [
        ""
      ],
      "execution_count": null,
      "outputs": []
    }
  ]
}